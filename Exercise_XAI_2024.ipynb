{
 "cells": [
  {
   "cell_type": "markdown",
   "metadata": {
    "id": "r5nvbCEWfTia"
   },
   "source": [
    "# Understanding your Deep Learning Models with Explainable AI\n",
    "\n",
    "**Exercise - MLPM course 2024**\n",
    "\n",
    "*Date: 21.11.2024*<br>"
   ]
  },
  {
   "cell_type": "markdown",
   "metadata": {
    "id": "gmLdeeYkm9QM"
   },
   "source": [
    "# Warm-up: Implementation of 3 basic methods\n",
    "\n",
    "Try to implement from scratch the 3 following feature attribution methods:\n",
    "1. **Gradient**. Parameters:\n",
    "  - x (Tensor): input sample, (B * C * W * H)\n",
    "  - model (torch.nn.Module): model\n",
    "  - target (int): output dimension to explain\n",
    "  - Output: gradient attributions (np.ndarray), (B * W * H) (averaged over channels)\n",
    "\n",
    "2. **Input**$\\times$**Gradient**. Parameters:\n",
    "  - x (Tensor): input sample, (B * C * W * H)\n",
    "  - model (torch.nn.Module): model\n",
    "  - target (int): output dimension to explain\n",
    "  - Output: gradient attributions (np.ndarray), (B * W * H) (averaged over channels)\n",
    "\n",
    "3. **Occlusion**. Parameters:\n",
    "  - x (Tensor): input sample, (B * C * W * H)\n",
    "  - model (torch.nn.Module): model\n",
    "  - target (int): output dimension to explain\n",
    "  - baseline (float): reference value used for masking (default: zeros), (C * w * w)\n",
    "  - w (int): for 2D inputs (e.g. images), size of the occlusion window\n",
    "  - Output: gradient attributions (np.ndarray), (B * W * H) (averaged over channels)"
   ]
  },
  {
   "cell_type": "markdown",
   "metadata": {
    "id": "hmdxLeBdn1QT"
   },
   "source": [
    "## Example use case: Natural image classification on ImageNet"
   ]
  },
  {
   "cell_type": "code",
   "execution_count": null,
   "metadata": {
    "id": "5AYX6ToYpzvG"
   },
   "outputs": [],
   "source": [
    "import torch\n",
    "import numpy as np\n",
    "import matplotlib.pyplot as plt"
   ]
  },
  {
   "cell_type": "code",
   "execution_count": null,
   "metadata": {
    "id": "Ew5DaeTQreu7"
   },
   "outputs": [],
   "source": [
    "# Retrieve pretrained InceptionV3 network from torch hub\n",
    "model = torch.hub.load('pytorch/vision:v0.10.0', 'inception_v3', pretrained=True)\n",
    "model.eval()"
   ]
  },
  {
   "cell_type": "code",
   "execution_count": null,
   "metadata": {
    "id": "8vRReQOs-pwa"
   },
   "outputs": [],
   "source": [
    "# Check if the file already exists\n",
    "if not os.path.exists(\"imagenet_classes.txt\"):\n",
    "    # Download ImageNet class names if not already downloaded\n",
    "    !wget https://raw.githubusercontent.com/pytorch/hub/master/imagenet_classes.txt\n",
    "\n",
    "# Read the class names from the file\n",
    "with open(\"imagenet_classes.txt\", \"r\") as f:\n",
    "    categories = [s.strip() for s in f.readlines()]"
   ]
  },
  {
   "cell_type": "code",
   "execution_count": null,
   "metadata": {
    "id": "g02RMciusk6E"
   },
   "outputs": [],
   "source": [
    "print(categories)"
   ]
  },
  {
   "cell_type": "code",
   "execution_count": null,
   "metadata": {
    "id": "BtT3_5ZP-yOq"
   },
   "outputs": [],
   "source": [
    "# Load example image from ImageNet\n",
    "!wget https://raw.githubusercontent.com/EliSchwartz/imagenet-sample-images/bc69043e2862758a1906c6a24a792bb28c6bb2ff/n02917067_bullet_train.JPEG -O img.jpg\n",
    "from PIL import Image\n",
    "from torchvision import transforms\n",
    "input_image = Image.open('img.jpg')\n",
    "preprocess = transforms.Compose([\n",
    "    transforms.Resize(256),\n",
    "    transforms.CenterCrop(224),\n",
    "    transforms.ToTensor(),\n",
    "    transforms.Normalize(mean=[0.485, 0.456, 0.406], std=[0.229, 0.224, 0.225]),\n",
    "])\n",
    "input_tensor = preprocess(input_image)\n",
    "input_batch = input_tensor.unsqueeze(0) # create a mini-batch as expected by the model\n",
    "input_image = input_image.resize((256,256)).crop((16, 16, 256-16, 256-16))\n",
    "input_image\n"
   ]
  },
  {
   "cell_type": "code",
   "execution_count": null,
   "metadata": {
    "id": "PAH913pA9ufB"
   },
   "outputs": [],
   "source": [
    "probs = model(input_batch).softmax(dim=1)\n",
    "y_pred = probs.argmax(dim=1).item()\n",
    "print(f\"Predicted class: {categories[y_pred]} (p = {probs.max().item()})\")"
   ]
  },
  {
   "cell_type": "markdown",
   "metadata": {
    "id": "CLvR1cLoYA_M"
   },
   "source": [
    "## Gradient"
   ]
  },
  {
   "cell_type": "code",
   "execution_count": null,
   "metadata": {
    "id": "LwvdQCD0ptVb"
   },
   "outputs": [],
   "source": [
    "def gradient(\n",
    "    x: torch.Tensor,\n",
    "    model: torch.nn.Module,\n",
    "    target: int,\n",
    ") -> np.ndarray:\n",
    "\n",
    "    # Enable gradients\n",
    "    x.requires_grad = True\n",
    "\n",
    "    # Compute the gradient of the output with respect to the input\n",
    "    ### YOUR CODE HERE ###\n",
    "    output = model(x)\n",
    "    target_output = output[:, target]\n",
    "    target_output.backward()\n",
    "    grad = x.grad.detach().cpu().numpy()  # Remove batch dimension (shape becomes 3x224x224)\n",
    "    attribution = np.sum(grad, axis=0)/3 # Compute average across RGB channels\n",
    "    \n",
    "    return attribution"
   ]
  },
  {
   "cell_type": "code",
   "execution_count": null,
   "metadata": {
    "id": "ZeyWVMMtu_GS"
   },
   "outputs": [],
   "source": [
    "%%time\n",
    "grad = gradient(input_batch, model, y_pred)"
   ]
  },
  {
   "cell_type": "code",
   "execution_count": null,
   "metadata": {
    "id": "OPFi3qlYw7OK"
   },
   "outputs": [],
   "source": [
    "# Visualize attributions as a heatmap\n",
    "plt.imshow(grad[0], cmap='RdBu_r', vmin=-0.1, vmax=0.1)\n",
    "plt.title(\"Gradient attributions\")\n",
    "plt.colorbar()\n",
    "plt.show()"
   ]
  },
  {
   "cell_type": "code",
   "execution_count": null,
   "metadata": {
    "id": "7zkNfBj071VZ"
   },
   "outputs": [],
   "source": [
    "# Visualize them side-by-side with the input image\n",
    "fig, ax = plt.subplots(1,3, figsize=(15,5))\n",
    "ax[0].imshow(input_image)\n",
    "ax[0].set_title(\"Input Image\")\n",
    "ax[1].imshow(grad[0], cmap='RdBu_r', vmin=-0.1, vmax=0.1)\n",
    "ax[1].set_title(\"Gradient attributions\")\n",
    "grad_scaled = np.clip(grad / np.quantile(grad, 0.95), 0, 1)\n",
    "ax[2].imshow(input_image * grad_scaled[0,:,:,None] / 255)\n",
    "ax[2].set_title(\"Image weighted by attributions\")\n",
    "plt.show()"
   ]
  },
  {
   "cell_type": "markdown",
   "metadata": {
    "id": "39t5gMtZYTei"
   },
   "source": [
    "## Input $\\times$  Gradient"
   ]
  },
  {
   "cell_type": "code",
   "execution_count": null,
   "metadata": {
    "id": "GtCT3vuW-QQU"
   },
   "outputs": [],
   "source": [
    "def inputxgradient(\n",
    "    x: torch.Tensor,\n",
    "    model: torch.nn.Module,\n",
    "    target: int,\n",
    ") -> np.ndarray:\n",
    "\n",
    "    ### YOUR CODE HERE ###\n",
    "    # Enable gradients\n",
    "    x.requires_grad = True\n",
    "\n",
    "    # Compute the gradient of the output with respect to the input\n",
    "    ### YOUR CODE HERE ###\n",
    "    output = model(x)\n",
    "    target_output = output[:, target]\n",
    "    target_output.backward()\n",
    "    \n",
    "    attribution = (x * x.grad).mean(dim=1).detach().cpu().numpy()\n",
    "\n",
    "    return attribution"
   ]
  },
  {
   "cell_type": "code",
   "execution_count": null,
   "metadata": {
    "id": "Ehy53KI8-7eO"
   },
   "outputs": [],
   "source": [
    "%%time\n",
    "\n",
    "inputxgrad = inputxgradient(input_batch, model, y_pred)\n"
   ]
  },
  {
   "cell_type": "code",
   "execution_count": null,
   "metadata": {
    "id": "n3OAbqaE_D5w"
   },
   "outputs": [],
   "source": [
    "# Visualize attributions as a heatmap\n",
    "plt.imshow(inputxgrad[0], cmap='RdBu_r', vmin=-0.1, vmax=0.1)\n",
    "plt.title(r\"Input$\\times$Gradient attributions\")\n",
    "plt.colorbar()\n",
    "plt.show()"
   ]
  },
  {
   "cell_type": "code",
   "execution_count": null,
   "metadata": {
    "id": "BFUy2aZP_pwI"
   },
   "outputs": [],
   "source": [
    "# Visualize them side-by-side with the input image\n",
    "fig, ax = plt.subplots(1,3, figsize=(15,5))\n",
    "ax[0].imshow(input_image)\n",
    "ax[0].set_title(\"Input Image\")\n",
    "ax[1].imshow(inputxgrad[0], cmap='RdBu_r', vmin=-0.1, vmax=0.1)\n",
    "ax[1].set_title(r\"Input$\\times$Gradient attributions\")\n",
    "inputxgrad_scaled = np.clip(inputxgrad / np.quantile(inputxgrad, 0.95), 0, 1)\n",
    "ax[2].imshow(input_image * inputxgrad_scaled[0,:,:,None] / 255)\n",
    "ax[2].set_title(\"Image weighted by attributions\")\n",
    "plt.show()"
   ]
  },
  {
   "cell_type": "markdown",
   "metadata": {
    "id": "JGw4NEyyYOhT"
   },
   "source": [
    "## Occlusion"
   ]
  },
  {
   "cell_type": "code",
   "execution_count": null,
   "metadata": {
    "id": "tkow6UMI_-QG"
   },
   "outputs": [],
   "source": [
    "def occlusion(\n",
    "    x: torch.Tensor,\n",
    "    model: torch.nn.Module,\n",
    "    target: int,\n",
    "    baseline: torch.Tensor,\n",
    "    w: int = 1,\n",
    ") -> np.ndarray:\n",
    "\n",
    "    ### YOUR CODE HERE ###\n",
    "    # Get input dimensions\n",
    "    B, C, W, H = x.shape    \n",
    "    attribution = torch.zeros((B, W, H), device=x.device)\n",
    "\n",
    "    # Precompute original model output for efficiency\n",
    "    with torch.no_grad():\n",
    "        output_original = model(x)\n",
    "        target_original = output_original[:, target]\n",
    "\n",
    "    # Iterate over all spatial positions\n",
    "    for i in range(0, W, w):\n",
    "        print(\"i :\",i, \"/\",W)\n",
    "        for j in range(0, H, w):\n",
    "            # Create occluded input\n",
    "            x_occluded = x.clone()\n",
    "            x_occluded[:, :, i:i+w, j:j+w] = baseline[:, :, :min(w, W-i), :min(w, H-j)]\n",
    "\n",
    "            # Forward pass for occluded input\n",
    "            with torch.no_grad():  # No need to track gradients\n",
    "                output_occluded = model(x_occluded)\n",
    "                target_occluded = output_occluded[:, target]\n",
    "\n",
    "            # Compute the difference\n",
    "            delta = (target_original - target_occluded).view(B, 1, 1) # From (B,1,1) \n",
    "            attribution[:, i:i+w, j:j+w] += delta # To (B,W,H) after the iterations\n",
    "    attribution = attribution.detach().cpu().numpy() # Convert to numpy array\n",
    "    return attribution"
   ]
  },
  {
   "cell_type": "code",
   "execution_count": null,
   "metadata": {
    "id": "Mmnxx5QfBuuS"
   },
   "outputs": [],
   "source": [
    "%%time\n",
    "w = 60 # 5 (4 minutes to run), 4 (8 minutes to run)\n",
    "baseline = torch.zeros_like(input_batch)### YOUR CODE HERE ###\n",
    "occ = occlusion(input_batch, model, y_pred, baseline=baseline, w=w)"
   ]
  },
  {
   "cell_type": "code",
   "execution_count": null,
   "metadata": {
    "id": "exXt4umsCtmc"
   },
   "outputs": [],
   "source": [
    "# Visualize attributions as a heatmap\n",
    "plt.imshow(occ[0], cmap='RdBu_r', vmin=-0.5, vmax=0.5)\n",
    "plt.title(f\"Occlusion-{w} attributions\")\n",
    "plt.colorbar()\n",
    "plt.show()"
   ]
  },
  {
   "cell_type": "code",
   "execution_count": null,
   "metadata": {
    "id": "xykuVyLddwFD"
   },
   "outputs": [],
   "source": [
    "# Visualize them side-by-side with the input image\n",
    "fig, ax = plt.subplots(1,3, figsize=(15,5))\n",
    "ax[0].imshow(input_image)\n",
    "ax[0].set_title(\"Input Image\")\n",
    "ax[1].imshow(occ[0], cmap='RdBu_r', vmin=-0.5, vmax=0.5)\n",
    "ax[1].set_title(f\"Occlusion-{w} attributions\")\n",
    "occ_scaled = np.clip(occ / np.quantile(occ, 0.95), 0, 1)\n",
    "ax[2].imshow(input_image * occ_scaled[0,:,:,None] / 255)\n",
    "ax[2].set_title(\"Image weighted by attributions\")\n",
    "plt.show()"
   ]
  },
  {
   "cell_type": "markdown",
   "metadata": {
    "id": "O9dCBvwOfTib"
   },
   "source": [
    "# Exercise: Investigation of a crack detector\n",
    "\n",
    "Let us consider the problem of crack detection in wall images. The task is expressed as binary classification.\n",
    "\n",
    "![crack-cls-1.png](data:image/png;base64,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)\n",
    "\n",
    "You are given the weights of three trained CNN models (`model_A`, `model_B` and `model_C`), and a test data set with positive images (with cracks) and negative images (without cracks).\n",
    "\n",
    "**Step 1**. Evaluate the performance of the three models on the test set using relevant performance metrics.\n",
    "\n",
    "**Step 2**. Can you trust the outcomes of these models? Investigate the predictions of each model using at least two different explainable AI (XAI) techniques and report your findings.\n",
    "\n",
    "**Step 3**. Which of the three models would you choose to use in production?\n",
    "\n",
    "**Step 4**. For the two other models, how could you explain what happened? Propose ideas to avoid this kind of problems and build more trustworthy models in the future.\n",
    "\n",
    "Code for data and model loading is given below.\n",
    "\n",
    "Some useful XAI libraries:\n",
    "\n",
    "* [captum](https://github.com/pytorch/captum)\n",
    "* [pytorch-grad-cam](https://github.com/jacobgil/pytorch-grad-cam)\n",
    "* [lime](https://github.com/marcotcr/lime)\n",
    "* [shap](https://github.com/shap/shap)\n",
    "* [xplique](https://github.com/deel-ai/xplique)\n",
    "* [iNNvestigate](https://github.com/albermax/innvestigate)\n",
    "* ...and many more!\n",
    "\n",
    "Modules can be installed in colab using e.g. `!pip install captum`."
   ]
  },
  {
   "cell_type": "markdown",
   "metadata": {
    "id": "rWKbJaLXj4AX"
   },
   "source": [
    "## 1. Set up dataset and models"
   ]
  },
  {
   "cell_type": "code",
   "execution_count": null,
   "metadata": {
    "id": "fwy2iAsboLfI"
   },
   "outputs": [],
   "source": [
    "!git clone https://github.com/EPFL-IMOS/IMC-HOW-XAI.git"
   ]
  },
  {
   "cell_type": "code",
   "execution_count": null,
   "metadata": {
    "id": "gkG0v4j3fTib"
   },
   "outputs": [],
   "source": [
    "base_path = \"./IMC-HOW-XAI\"  # CHANGE THIS PATH IF NEEDED"
   ]
  },
  {
   "cell_type": "markdown",
   "metadata": {
    "id": "l37GQXDEkE49"
   },
   "source": [
    "### Data and model loading code"
   ]
  },
  {
   "cell_type": "code",
   "execution_count": null,
   "metadata": {
    "id": "pnm9iBCwfTic"
   },
   "outputs": [],
   "source": [
    "import os\n",
    "import matplotlib.pyplot as plt\n",
    "import cv2\n",
    "import random\n",
    "import numpy as np\n",
    "import torch\n",
    "from torch import nn\n",
    "from torch.utils.data import ConcatDataset, Dataset\n",
    "import torchvision\n",
    "from torchvision import transforms as T\n",
    "from torchvision.transforms import functional as F\n",
    "\n",
    "# Data transformations\n",
    "class Compose:\n",
    "    def __init__(self, transforms):\n",
    "        self.transforms = transforms\n",
    "\n",
    "    def __call__(self, image, target=None):\n",
    "        for t in self.transforms:\n",
    "            image, target = t(image, target)\n",
    "        return image, target\n",
    "\n",
    "class ToTensor:\n",
    "    def __call__(self, image, target=None):\n",
    "        image = F.to_tensor(image)\n",
    "        if target is not None:\n",
    "            target = torch.as_tensor(target, dtype=torch.int64)\n",
    "        return image, target\n",
    "\n",
    "class RandomResize:\n",
    "    def __init__(self, min_size, max_size=None):\n",
    "        self.min_size = min_size\n",
    "        if max_size is None:\n",
    "            max_size = min_size\n",
    "        self.max_size = max_size\n",
    "\n",
    "    def __call__(self, image, target=None):\n",
    "        size = random.randint(self.min_size, self.max_size)\n",
    "        image = F.resize(image, size)\n",
    "        if target is not None:\n",
    "            target = F.resize(target.unsqueeze(0), size, interpolation=F.InterpolationMode.NEAREST).squeeze(0)\n",
    "        return image, target\n",
    "\n",
    "\n",
    "class RandomHorizontalFlip:\n",
    "    def __init__(self, flip_prob):\n",
    "        self.flip_prob = flip_prob\n",
    "\n",
    "    def __call__(self, image, target=None):\n",
    "        if random.random() < self.flip_prob:\n",
    "            image = F.hflip(image)\n",
    "            if target is not None:\n",
    "                target = F.hflip(target)\n",
    "        return image, target\n",
    "\n",
    "\n",
    "class RandomVerticalFlip:\n",
    "    def __init__(self, flip_prob):\n",
    "        self.flip_prob = flip_prob\n",
    "\n",
    "    def __call__(self, image, target=None):\n",
    "        if random.random() < self.flip_prob:\n",
    "            image = F.vflip(image)\n",
    "            if target is not None:\n",
    "                target = F.vflip(target)\n",
    "        return image, target\n",
    "\n",
    "def get_train_transform(crop_size=64, size=256):\n",
    "    transforms = [\n",
    "        ToTensor(),\n",
    "        RandomResize(size),\n",
    "        RandomHorizontalFlip(flip_prob=0.5),\n",
    "        RandomVerticalFlip(flip_prob=0.5)\n",
    "    ]\n",
    "    return Compose(transforms)\n",
    "\n",
    "def get_val_transform(crop_size=64, size=256):\n",
    "    transforms = [\n",
    "        ToTensor(),\n",
    "        RandomResize(size)\n",
    "    ]\n",
    "    return Compose(transforms)"
   ]
  },
  {
   "cell_type": "code",
   "execution_count": null,
   "metadata": {
    "id": "tM0yZfU1fTic"
   },
   "outputs": [],
   "source": [
    "# Dataset class\n",
    "TRAIN_IMAGES_POSITIVE = [\n",
    "    \"train_positive\"\n",
    "]\n",
    "\n",
    "TRAIN_IMAGES_NEGATIVE = [\n",
    "    \"train_negative\"\n",
    "]\n",
    "\n",
    "TRAIN_IMAGES = TRAIN_IMAGES_POSITIVE + TRAIN_IMAGES_NEGATIVE\n",
    "\n",
    "VAL_IMAGES_POSITIVE = [\n",
    "    \"val_positive\"\n",
    "]\n",
    "\n",
    "VAL_IMAGES_NEGATIVE = [\n",
    "    \"val_negative\"\n",
    "]\n",
    "\n",
    "VAL_IMAGES = VAL_IMAGES_POSITIVE + VAL_IMAGES_NEGATIVE\n",
    "\n",
    "TEST_IMAGES_POSITIVE = [\n",
    "    \"test_positive\"\n",
    "]\n",
    "\n",
    "TEST_IMAGES_NEGATIVE = [\n",
    "    \"test_negative\"\n",
    "]\n",
    "\n",
    "TEST_IMAGES = TEST_IMAGES_POSITIVE + TEST_IMAGES_NEGATIVE\n",
    "\n",
    "SEED = 42\n",
    "\n",
    "\n",
    "class DICCracksDatasetFold(Dataset):\n",
    "    def __init__(self, root, fold=\"train\", segmentation=True, transform=None):\n",
    "        \"\"\"\n",
    "        fold: train, val or test\n",
    "        \"\"\"\n",
    "        self.root = root\n",
    "        self.fold = fold\n",
    "        self.segmentation = segmentation\n",
    "        self.images = sorted(os.listdir(os.path.join(root, fold)))\n",
    "\n",
    "        if os.path.exists(os.path.join(root, fold + \"_GT\")):\n",
    "            self.masks = sorted(os.listdir(os.path.join(root, fold + \"_GT\")))\n",
    "        else:\n",
    "            self.masks = [None] * len(self.images)\n",
    "\n",
    "        self.transform = transform\n",
    "\n",
    "    def __len__(self):\n",
    "        return len(self.images)\n",
    "\n",
    "    def __getitem__(self, idx):\n",
    "        image = self.images[idx]\n",
    "        mask = self.masks[idx]\n",
    "\n",
    "        image = cv2.imread(os.path.join(self.root, self.fold, image))\n",
    "        if mask is not None:\n",
    "            mask = cv2.imread(os.path.join(self.root, self.fold + \"_GT\", mask), cv2.IMREAD_GRAYSCALE) / 255\n",
    "        else:\n",
    "            mask = np.zeros((image.shape[0], image.shape[1]), dtype=\"uint8\")\n",
    "\n",
    "        if self.transform is not None:\n",
    "            image, mask = self.transform(image, mask)\n",
    "\n",
    "        if not self.segmentation:\n",
    "            mask = mask.max().item()  # binary classification label\n",
    "\n",
    "        return image, mask, self.images[idx]\n",
    "\n",
    "\n",
    "class DICCracksDataset(ConcatDataset):\n",
    "    def __init__(self, root, fold=\"train\", segmentation=True, positive_only=False, negative_only=False, **kwargs):\n",
    "        assert fold in [\"train\", \"val\", \"test\"], f\"fold {fold} not in train, val or test\"\n",
    "\n",
    "        if fold == \"val\":\n",
    "            if positive_only:\n",
    "                self.folds = VAL_IMAGES_POSITIVE\n",
    "            elif negative_only:\n",
    "                self.folds = VAL_IMAGES_NEGATIVE\n",
    "            else:\n",
    "                self.folds = VAL_IMAGES\n",
    "        elif fold == \"test\":\n",
    "            if positive_only:\n",
    "                self.folds = TEST_IMAGES_POSITIVE\n",
    "            elif negative_only:\n",
    "                self.folds = TEST_IMAGES_NEGATIVE\n",
    "            else:\n",
    "                self.folds = TEST_IMAGES\n",
    "        elif fold == \"train\":\n",
    "            if positive_only:\n",
    "                self.folds = TRAIN_IMAGES_POSITIVE\n",
    "            elif negative_only:\n",
    "                self.folds = TEST_IMAGES_NEGATIVE\n",
    "            else:\n",
    "                self.folds = TRAIN_IMAGES\n",
    "        else:\n",
    "            raise NotImplementedError()\n",
    "\n",
    "        # initialize a concat dataset with the corresponding folds\n",
    "        super().__init__(\n",
    "            [\n",
    "                DICCracksDatasetFold(root, fold, segmentation, **kwargs)\n",
    "                for fold in self.folds\n",
    "            ]\n",
    "        )"
   ]
  },
  {
   "cell_type": "code",
   "execution_count": null,
   "metadata": {
    "id": "_wMwYgw0fTid"
   },
   "outputs": [],
   "source": [
    "ds_test = DICCracksDataset(\n",
    "    root=os.path.join(base_path, \"crack_dataset\"),\n",
    "    fold=\"test\",\n",
    "    transform=get_val_transform(),\n",
    "    segmentation=False\n",
    ")\n",
    "\n",
    "batch_size = 8\n",
    "test_loader = torch.utils.data.DataLoader(\n",
    "    ds_test, batch_size=batch_size, drop_last=False\n",
    ")"
   ]
  },
  {
   "cell_type": "markdown",
   "metadata": {
    "id": "Q5M8TjaPpASV"
   },
   "source": [
    "### Display a test image"
   ]
  },
  {
   "cell_type": "code",
   "execution_count": null,
   "metadata": {
    "id": "Iy5jTIbTfTid"
   },
   "outputs": [],
   "source": [
    "img, label, _ = ds_test[5]\n",
    "print(\"Label = \", label)\n",
    "plt.imshow(img[0].numpy(), cmap=\"gray\");"
   ]
  },
  {
   "cell_type": "markdown",
   "metadata": {
    "id": "XLZ91hpEpIx1"
   },
   "source": [
    "### Load the 3 pretrained models"
   ]
  },
  {
   "cell_type": "code",
   "execution_count": null,
   "metadata": {
    "id": "bj_o3AS9fTie"
   },
   "outputs": [],
   "source": [
    "models = {\n",
    "    \"A\": os.path.join(base_path, \"weights\",  \"model_A.pth\"),\n",
    "    \"B\": os.path.join(base_path, \"weights\", \"model_B.pth\"),\n",
    "    \"C\": os.path.join(base_path, \"weights\", \"model_C.pth\")\n",
    "}"
   ]
  },
  {
   "cell_type": "code",
   "execution_count": null,
   "metadata": {
    "id": "LG8Zj8zWqkQS"
   },
   "outputs": [],
   "source": [
    "device = torch.device(\"cuda\" if torch.cuda.is_available() else \"cpu\")"
   ]
  },
  {
   "cell_type": "code",
   "execution_count": null,
   "metadata": {
    "id": "YZDcsYBgfTie"
   },
   "outputs": [],
   "source": [
    "def build_model(weights):\n",
    "    # Create VGG11 model\n",
    "    model = torchvision.models.vgg11()\n",
    "    # modify average pooling for 256*256 inputs (instead of 224*224)\n",
    "    model.avgpool = nn.AdaptiveAvgPool2d((8, 8))\n",
    "    # modify the classification head to use 128 neurons instead of 4096\n",
    "    (\n",
    "        model.classifier[0],\n",
    "        model.classifier[3],\n",
    "        model.classifier[6],\n",
    "    ) = (nn.Linear(512 * 8 * 8, 128), nn.Linear(128, 128), nn.Linear(128, 2))\n",
    "\n",
    "    # Load weights\n",
    "    model.load_state_dict(torch.load(weights, weights_only=True))\n",
    "    return model"
   ]
  },
  {
   "cell_type": "code",
   "execution_count": null,
   "metadata": {
    "id": "IWtg6yNVfTif"
   },
   "outputs": [],
   "source": [
    "model_A, model_B, model_C = (build_model(models[id]) for id in (\"A\", \"B\", \"C\"))"
   ]
  },
  {
   "cell_type": "markdown",
   "metadata": {
    "id": "YO7x0LQwfTif"
   },
   "source": [
    "## 2. Investigation of the models\n",
    "\n",
    "### Step 1\n",
    "\n",
    "**Evaluate the performance of the three models on the test set using relevant performance metrics.**"
   ]
  },
  {
   "cell_type": "code",
   "execution_count": null,
   "metadata": {
    "id": "CbQmgUYkfTig"
   },
   "outputs": [],
   "source": [
    "### YOUR CODE HERE ###\n",
    "from sklearn.metrics import accuracy_score, precision_score, recall_score\n",
    "\n",
    "# Three models \n",
    "# input : images\n",
    "# neural network\n",
    "# output : damage free or cracked\n",
    "# Performance metrics : Accuracy, Recall, Precision\n",
    "\n",
    "# y_pred = model(x)\n",
    "# y_true\n",
    "\n",
    "def evaluate_model(model, loader, device):\n",
    "    model.to(device)\n",
    "    model.eval()\n",
    "\n",
    "    y_true = []\n",
    "    y_pred = []\n",
    "\n",
    "    with torch.no_grad():\n",
    "        for images, labels, _ in loader:\n",
    "            images = images.to(device)\n",
    "            labels = labels.to(device)\n",
    "\n",
    "            # Get predictions\n",
    "            outputs = model(images)\n",
    "            preds = torch.argmax(outputs, dim=1)\n",
    "\n",
    "            # Append to lists\n",
    "            y_true.extend(labels.cpu().numpy())\n",
    "            y_pred.extend(preds.cpu().numpy())\n",
    "\n",
    "    # Compute metrics\n",
    "    accuracy = accuracy_score(y_true, y_pred)\n",
    "    precision = precision_score(y_true, y_pred, average='binary')\n",
    "    recall = recall_score(y_true, y_pred, average='binary')\n",
    "\n",
    "    return accuracy, precision, recall\n",
    "\n",
    "# Evaluate each model\n",
    "results = {}\n",
    "for model_id, model in zip([\"A\", \"B\", \"C\"], [model_A, model_B, model_C]):\n",
    "    accuracy, precision, recall = evaluate_model(model, test_loader, device)\n",
    "    results[model_id] = {\n",
    "        \"Accuracy\": accuracy,\n",
    "        \"Precision\": precision,\n",
    "        \"Recall\": recall,\n",
    "    }\n",
    "\n",
    "# Print results\n",
    "for model_id, metrics in results.items():\n",
    "    print(f\"Model {model_id} Results:\")\n",
    "    for metric, value in metrics.items():\n",
    "        print(f\"  {metric}: {value:.4f}\")\n"
   ]
  },
  {
   "cell_type": "markdown",
   "metadata": {
    "id": "N4kRkFPjfTig"
   },
   "source": [
    "### Step 2\n",
    "\n",
    "**Can you trust the outcomes of these models? Investigate the predictions of each model using at least 2 different explainable AI (XAI) techniques and report your findings.**"
   ]
  },
  {
   "cell_type": "code",
   "execution_count": null,
   "metadata": {
    "id": "hYSNReqCZt-I"
   },
   "outputs": [],
   "source": [
    "### YOUR CODE HERE ###\n",
    "\n",
    "# Perturbation-based: SHAP, LIME, RISE...\n",
    "# Forward Perturbation\n",
    "\n",
    "# Gradient or Propagation-based: Grad-CAM, Integrated Gradients, DeepLIFT, LRP...\n",
    "# Backward Propagation\n",
    "\n",
    "# Choice : LIME and Grad-CAM\n"
   ]
  },
  {
   "cell_type": "markdown",
   "metadata": {},
   "source": [
    "Code for the library lime : [https://github.com/marcotcr/lime/blob/master/doc/notebooks/Tutorial%20-%20images%20-%20Pytorch.ipynb]."
   ]
  },
  {
   "cell_type": "code",
   "execution_count": null,
   "metadata": {},
   "outputs": [],
   "source": [
    "from skimage.segmentation import mark_boundaries\n",
    "from lime import lime_image\n",
    "# Define a wrapper for the PyTorch model\n",
    "class PyTorchModelWrapper:\n",
    "    def __init__(self, model):\n",
    "        self.model = model.eval()\n",
    "    \n",
    "    def __call__(self, images):\n",
    "        \"\"\"\n",
    "        Convert images from [0, 1] range to the model's input range.\n",
    "        \"\"\"\n",
    "        images = torch.tensor(images).permute(0, 3, 1, 2).float()  # Convert to NCHW format\n",
    "        images = images.to(next(self.model.parameters()).device)   # Send to device\n",
    "        with torch.no_grad():\n",
    "            outputs = self.model(images)\n",
    "            probs = torch.nn.functional.softmax(outputs, dim=1)\n",
    "        return probs.cpu().numpy()\n",
    "\n",
    "def plot_LIME(model, img_index, num_samples = 1000):\n",
    "    \"\"\"\n",
    "    Explain the prediction of an image using LIME and visualize the explanation.\n",
    "    \"\"\"\n",
    "    model_wrapper = PyTorchModelWrapper(model)\n",
    "    img, label, _ = ds_test[img_index]  # Get image and label\n",
    "    img = img.numpy().transpose(1, 2, 0)  # Convert to HWC format\n",
    "    img = (img - img.min()) / (img.max() - img.min())  # Normalize to [0, 1]\n",
    "\n",
    "    explainer = lime_image.LimeImageExplainer()\n",
    "    explanation = explainer.explain_instance(\n",
    "        img,\n",
    "        model_wrapper,\n",
    "        top_labels=2,\n",
    "        hide_color=0,\n",
    "        num_samples=num_samples # 1000 reduce it to improve speed but probably reduce the accuracy\n",
    "    )\n",
    "\n",
    "    # Automatically select the target class based on the model's prediction\n",
    "    target_class = np.argmax(model_wrapper(np.expand_dims(img, axis=0)))\n",
    "    if target_class == 0:\n",
    "        print(\"Explaining target class : damage-free\")\n",
    "    elif target_class == 1:\n",
    "        print(\"Explaining target class : crack\")\n",
    "    else:\n",
    "        print(\"error\")\n",
    "        \n",
    "    if label == 0:\n",
    "        print(\"True label : damage-free\")\n",
    "    elif label == 1:\n",
    "        print(\"True label : crack\")\n",
    "    else:\n",
    "        print(\"error\")   \n",
    "    \n",
    "    temp, mask = explanation.get_image_and_mask(\n",
    "        label=target_class,\n",
    "        positive_only=True,\n",
    "        hide_rest=False,\n",
    "        num_features=5,\n",
    "        min_weight=0.0\n",
    "    )\n",
    "\n",
    "    # Generate boundaries\n",
    "    img_boundaries = mark_boundaries(img, mask)\n",
    "\n",
    "    # Plot original image with boundaries\n",
    "    plt.figure(figsize=(5, 5))\n",
    "    \n",
    "    # Image with LIME boundaries\n",
    "    plt.imshow(img_boundaries)\n",
    "    plt.title(\"Image with LIME Boundaries\")\n",
    "    plt.axis(\"off\")\n",
    "    \n",
    "    plt.tight_layout()\n",
    "    plt.show()"
   ]
  },
  {
   "cell_type": "code",
   "execution_count": null,
   "metadata": {},
   "outputs": [],
   "source": [
    "# plot_LIME(model_{A,B,C}, img_index = [0,308], num_samples)\n",
    "plot_LIME(model_A, 50, 100)\n",
    "plot_LIME(model_B, 50, 100)\n",
    "plot_LIME(model_C, 50, 100)"
   ]
  },
  {
   "cell_type": "code",
   "execution_count": null,
   "metadata": {},
   "outputs": [],
   "source": [
    "print(model_A)"
   ]
  },
  {
   "cell_type": "code",
   "execution_count": null,
   "metadata": {},
   "outputs": [],
   "source": [
    "# Grad-CAM\n",
    "from torchcam.methods import GradCAM\n",
    "\n",
    "# Function to register the hooks for Grad-CAM\n",
    "def register_hooks(model, target_layer):\n",
    "    activations = []\n",
    "    gradients = []\n",
    "\n",
    "    # Hook to capture the feature map (activations) after the forward pass\n",
    "    def save_activation(module, input, output):\n",
    "        activations.append(output)\n",
    "\n",
    "    # Hook to capture the gradients during the backward pass\n",
    "    def save_gradient(module, grad_input, grad_output):\n",
    "        gradients.append(grad_output[0])  # Gradients w.r.t the output\n",
    "\n",
    "    # Register the hooks\n",
    "    target_layer.register_forward_hook(save_activation)\n",
    "    target_layer.register_backward_hook(save_gradient)\n",
    "\n",
    "    return activations, gradients\n",
    "\n",
    "# Grad-CAM function\n",
    "def grad_cam(model, input_image, target, target_layer, device, activations, gradients):\n",
    "    # Move input image to device\n",
    "    input_image = input_image.to(device)\n",
    "\n",
    "    # Forward pass to get the predictions\n",
    "    model.eval()\n",
    "    output = model(input_image.unsqueeze(0))  # Add batch dimension\n",
    "\n",
    "    # Get the score for the target class\n",
    "    target_score = output[0, target]\n",
    "\n",
    "    # Backward pass to get the gradients\n",
    "    model.zero_grad()\n",
    "    target_score.backward(retain_graph=True)\n",
    "\n",
    "    # Get the gradients and activations from the hooks\n",
    "    last_gradients = activations[-1]  # Last activations from the hook\n",
    "    last_activations = gradients[-1]  # Last gradients from the hook\n",
    "\n",
    "    # Compute the weights of each feature map\n",
    "    weights = torch.mean(last_gradients, dim=(2, 3), keepdim=True)  # Global average pooling\n",
    "    cam = torch.sum(weights * last_activations, dim=1)  # Weighted sum of feature maps\n",
    "\n",
    "    # Apply ReLU to the result to keep only positive values\n",
    "    cam = torch.relu(cam)\n",
    "\n",
    "    # Normalize the cam between 0 and 1\n",
    "    cam = cam - cam.min()\n",
    "    cam = cam / cam.max()\n",
    "\n",
    "    return cam\n",
    "\n",
    "#Function to overlay the Grad-CAM on image\n",
    "def overlay_grad_cam_on_image(image, cam, colormap=cv2.COLORMAP_JET):\n",
    "    #Resize cam to match image\n",
    "    cam_resized = cv2.resize(cam.cpu().detach().numpy(), (image.shape[2], image.shape[1]))  # (width, height)\n",
    "\n",
    "    #Apply colormap to the gradcam heatmap\n",
    "    cam_colored = cv2.applyColorMap(np.uint8(255*cam_resized), colormap)\n",
    "\n",
    "    #Convert image to RGB and normalize it \n",
    "    image = np.array(image)\n",
    "    image = np.uint8(255*image)\n",
    "    image_with_cam = cv2.addWeighted(image, 0.6, cam_colored, 0.4, 0)\n",
    "\n",
    "    return image_with_cam\n",
    "\n",
    "#Evaluate the model and visualize the Grad-CAM for each image in the dataloader\n",
    "def evaluate_and_visualize_grad_cam(model, image, label, device, target_layer):\n",
    "    model.to(device)\n",
    "    model.eval()\n",
    "\n",
    "    # Register hooks to get gradients\n",
    "    activations, gradients = register_hooks(model, target_layer)\n",
    "\n",
    "    # Generate Grad-CAM for the image\n",
    "    cam = grad_cam(model, image, label, target_layer, device, activations, gradients)\n",
    "\n",
    "    # Overlay the Grad-CAM on the image\n",
    "    image_with_cam = overlay_grad_cam_on_image(image.cpu().numpy().transpose(1, 2, 0), cam)\n",
    "    \n",
    "\n",
    "\n",
    "    # Plot the original image and Grad-CAM result\n",
    "    plt.figure(figsize=(8, 8))\n",
    "    plt.subplot(1, 2, 1)\n",
    "    plt.imshow(image.cpu().numpy().transpose(1, 2, 0))  # Original Image\n",
    "    plt.title(f\"Original Image\")\n",
    "    plt.subplot(1, 2, 2)\n",
    "    plt.imshow(image_with_cam)  # Image with Grad-CAM\n",
    "    plt.title(f\"Grad-CAM\")\n",
    "    plt.show()\n",
    "\n",
    "device = torch.device(\"cpu\")  # Set device to CPU, change to 'cuda' for GPU if needed\n",
    "\n",
    "# Choose the layer you want to use for Grad-CAM (usually the last convolutional layer)\n",
    "target_layer = model_A.features[18]  # Replace with the correct layer index based on your model\n",
    "\n",
    "# Get an image from the dataset\n",
    "img, label, _ = ds_test[0]  # Image and label\n",
    "\n",
    "# Evaluate and visualize Grad-CAM for all models\n",
    "evaluate_and_visualize_grad_cam(model_A, img, label, device, target_layer)\n"
   ]
  },
  {
   "cell_type": "markdown",
   "metadata": {
    "id": "whGz7gNbfTih"
   },
   "source": [
    "### Step 3\n",
    "\n",
    "**Which of the three models would you choose to use in production?**\n"
   ]
  },
  {
   "cell_type": "markdown",
   "metadata": {
    "id": "azJ7LSdkfTih"
   },
   "source": [
    "### Step 4\n",
    "\n",
    "**For the two other models, how could you explain what happened? Propose ideas to avoid this kind of problems and build more trustworthy models in the future.**"
   ]
  }
 ],
 "metadata": {
  "accelerator": "GPU",
  "colab": {
   "gpuType": "T4",
   "provenance": [],
   "toc_visible": true
  },
  "kernelspec": {
   "display_name": "24ML",
   "language": "python",
   "name": "python3"
  },
  "language_info": {
   "codemirror_mode": {
    "name": "ipython",
    "version": 3
   },
   "file_extension": ".py",
   "mimetype": "text/x-python",
   "name": "python",
   "nbconvert_exporter": "python",
   "pygments_lexer": "ipython3",
   "version": "3.12.7"
  }
 },
 "nbformat": 4,
 "nbformat_minor": 1
}
